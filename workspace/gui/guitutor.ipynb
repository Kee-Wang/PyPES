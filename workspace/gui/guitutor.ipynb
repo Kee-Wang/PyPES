{
 "cells": [
  {
   "cell_type": "markdown",
   "metadata": {},
   "source": [
    "# This is Tkinter tutoral"
   ]
  },
  {
   "cell_type": "markdown",
   "metadata": {},
   "source": [
    "## First import everthing from tkinter moldule. \n",
    "* For python2, you should use Tkinkter"
   ]
  },
  {
   "cell_type": "markdown",
   "metadata": {},
   "source": [
    "### Advantage\n",
    "* Ship with Python already, light weight."
   ]
  },
  {
   "cell_type": "markdown",
   "metadata": {},
   "source": [
    "### Disadvantage\n",
    "* Limited widget set\n",
    "* Ugly"
   ]
  },
  {
   "cell_type": "markdown",
   "metadata": {},
   "source": [
    "## Latest improvement\n",
    "* Themed TK (TTK)"
   ]
  },
  {
   "cell_type": "markdown",
   "metadata": {},
   "source": [
    "## Layout Mangers\n",
    "* absolute (avoid)\n",
    "* pack\n",
    "* grid\n",
    "\n",
    "### Pack layout\n",
    "* Specify a side\n",
    "* parent sizes itself to minimize everything\n",
    "\n",
    "### Grid Layoout\n",
    "* Closer to other toolkits\n"
   ]
  },
  {
   "cell_type": "code",
   "execution_count": 1,
   "metadata": {
    "collapsed": true
   },
   "outputs": [],
   "source": [
    "from tkinter import *\n",
    "import tkinter"
   ]
  },
  {
   "cell_type": "markdown",
   "metadata": {},
   "source": [
    "## Your first window!"
   ]
  },
  {
   "cell_type": "code",
   "execution_count": 3,
   "metadata": {
    "collapsed": false
   },
   "outputs": [],
   "source": [
    "root = Tk() #root means to creat a new window\n",
    "theLabel = Label(root,text=\"MSA PES fitting package\")\n",
    "theLabel.pack() #label pops out really fast and close really fast.\n",
    "root.mainloop() #This means have window continuous on the screen until you close it."
   ]
  },
  {
   "cell_type": "markdown",
   "metadata": {},
   "source": [
    "## A better one...with bottons!"
   ]
  },
  {
   "cell_type": "code",
   "execution_count": null,
   "metadata": {
    "collapsed": false
   },
   "outputs": [],
   "source": [
    "root = Tk() #Main window\n",
    "\n",
    "topFrame = Frame(root) # \n",
    "topFrame.pack() #If you want to show this frame, you have to pack it in the window. Default is top.\n",
    "\n",
    "bottomFrame = Frame(root)\n",
    "bottomFrame.pack(side=BOTTOM) # Pack this frame on the bottom.\n",
    "\n",
    "#Three on top and one on bottom\n",
    "button1 = Button(topFrame,text='Button1',fg=\"red\") #(where_to_put_the_buttom, what-to-show-on-button,color)\n",
    "button2 = Button(topFrame,text='Button2',fg='blue')\n",
    "button3 = Button(topFrame,text='Button3',fg='green')\n",
    "button4 = Button(bottomFrame,text='Button4',fg='purple')\n",
    "\n",
    "#Nothing will showup yet now. Because you haven't packed it yet. In order to pack it.\n",
    "button1.pack(side=LEFT)\n",
    "button2.pack(side=LEFT)\n",
    "button3.pack(side=LEFT) #So that first three can be packed side by side.\n",
    "button4.pack(side=BOTTOM)\n",
    "\n",
    "root.mainloop() #Shows window"
   ]
  },
  {
   "cell_type": "markdown",
   "metadata": {},
   "source": [
    "## Dynamic label!"
   ]
  },
  {
   "cell_type": "code",
   "execution_count": null,
   "metadata": {
    "collapsed": false
   },
   "outputs": [],
   "source": [
    "root = Tk() #Main window\n",
    "one = Label(root, text='One',bg='red',fg='white')\n",
    "one.pack() #Label won't grow. Fixed size.\n",
    "two = Label(root,text='Two',bg='green',fg='black')\n",
    "two.pack(fill=X) #Means what to fit the window. Extend and move along with X\n",
    "three = Label(root,text='Three',bg='blue',fg='white')\n",
    "three.pack(side=LEFT,fill=Y)  #Extend and move along with Y\n",
    "\n",
    "root.mainloop() #Shows window"
   ]
  },
  {
   "cell_type": "markdown",
   "metadata": {},
   "source": [
    "## New way to organize other than 'pack' -- Try 'grid'!"
   ]
  },
  {
   "cell_type": "code",
   "execution_count": null,
   "metadata": {
    "collapsed": true
   },
   "outputs": [],
   "source": [
    "root = Tk() #Main window\n",
    "\n",
    "label_1 = Label(root,text='Name')  \n",
    "label_2 = Label(root,text='password')\n",
    "#Need 'entry' to catch input\n",
    "entry_1 = Entry(root)\n",
    "entry_2 = Entry(root)\n",
    "\n",
    "label_1.grid(row=0, sticky=E) #By default 'Name' will be center aligned. In order to align, use 'sticky'=N(orth),W(est),S(outh),E(ast)\n",
    "label_2.grid(row=1,sticky=E)\n",
    "\n",
    "entry_1.grid(row=0,column=1) \n",
    "entry_2.grid(row=1,column=1)\n",
    "\n",
    "\n",
    "c = Checkbutton(root,text='Keep me logged in')\n",
    "c.grid(columnspan=2) #Takes two columns and merge them together\n",
    "\n",
    "\n",
    "root.mainloop() #Shows window"
   ]
  },
  {
   "cell_type": "markdown",
   "metadata": {},
   "source": [
    "## Now..How to connect it with our program\n",
    "### ---binding function to widget"
   ]
  },
  {
   "cell_type": "code",
   "execution_count": null,
   "metadata": {
    "collapsed": false
   },
   "outputs": [],
   "source": [
    "root = Tk() #Main window\n",
    "def printName():\n",
    "    print('Hello my name is Kee')\n",
    "\n",
    "botton_1 = Button(root,text='Print my name',command=printName) #When every run command, run a function !!Important, not parathesis.\n",
    "botton_1.pack()\n",
    "root.mainloop() #Shows window"
   ]
  },
  {
   "cell_type": "markdown",
   "metadata": {},
   "source": [
    "### A better way to bind.... using .bind(event,func)"
   ]
  },
  {
   "cell_type": "code",
   "execution_count": null,
   "metadata": {
    "collapsed": false
   },
   "outputs": [],
   "source": [
    "root = Tk() #Main window\n",
    "def printName(event): #event such as hit keyboard, a click etc.\n",
    "    print('Hello my name is Kee')\n",
    "\n",
    "botton_1 = Button(root,text='Print my name') \n",
    "botton_1.bind('<Button-1>',printName) #The event (left click) is bind to the function 'printName'\n",
    "#<Button-1> is the left mouse button\n",
    "botton_1.pack()\n",
    "root.mainloop() #Shows window"
   ]
  },
  {
   "cell_type": "markdown",
   "metadata": {},
   "source": [
    "### Bind with classes"
   ]
  },
  {
   "cell_type": "code",
   "execution_count": null,
   "metadata": {
    "collapsed": false
   },
   "outputs": [],
   "source": [
    "class kee:\n",
    "    def __init__(self,master): #Means the mian window of GUI\n",
    "        frame = Frame(master)\n",
    "        frame.pack()\n",
    "        \n",
    "        self.printButton = Button(frame,text='Print Message',command=self.printMessage)\n",
    "        self.printButton.pack(side=LEFT)\n",
    "        \n",
    "        self.quitButton = Button(frame,text='Quit',command=frame.quit) #This is the quit to break main loop.\n",
    "        self.quitButton.pack(side=LEFT)\n",
    "        \n",
    "    def printMessage(self):\n",
    "        print('Wow, this actually worked!')\n",
    "root = Tk() #Main window\n",
    "b = kee(root)\n",
    "root.mainloop() #Shows window"
   ]
  },
  {
   "cell_type": "markdown",
   "metadata": {},
   "source": [
    "## An atucally useful softwere.\n",
    "* Notice, for Mac OS user, the menu bar will show up in the apple original menu bar other than pop-up windows."
   ]
  },
  {
   "cell_type": "code",
   "execution_count": null,
   "metadata": {
    "collapsed": false
   },
   "outputs": [],
   "source": [
    "from tkinter import *\n",
    "#from ttk import *\n",
    "def doNothing():\n",
    "    print('ok ok.')\n",
    "    \n",
    "root = Tk() #Blank Main window\n",
    "#Main menu\n",
    "menu = Menu(root) #menu is the object that will contain all menus on menubar in root.\n",
    "root.config(menu=menu) #Set menu to 'menu'. By default, it has already been put on the top\n",
    "#Sub menu. 'File', 'Edit' etc. are all submenus.\n",
    "\n",
    "subMenu = Menu(menu) #Inside 'menus'm, create a 'subMenu' object.\n",
    "\n",
    "menu.add_cascade(label = 'File', menu=subMenu) #The 'subMenu' just created will show up in the drop-down labeled as 'File'. \n",
    "\n",
    "#Now in the \n",
    "subMenu.add_command(label='New Project...',command=doNothing)\n",
    "subMenu.add_command(label='New...',command=doNothing)\n",
    "subMenu.add_separator() #Seperate one group to another group\n",
    "subMenu.add_command(label='Exit',command=doNothing)\n",
    "\n",
    "editMenu = Menu(menu) #Creat another item in main manu\n",
    "menu.add_cascade(label = 'Edit', menu=editMenu)\n",
    "editMenu.add_command(label='Redo', command=doNothing)\n",
    "\n",
    "root.mainloop() #Shows window"
   ]
  },
  {
   "cell_type": "markdown",
   "metadata": {
    "collapsed": true
   },
   "source": [
    "## Creating the tool bar"
   ]
  },
  {
   "cell_type": "code",
   "execution_count": null,
   "metadata": {
    "collapsed": false
   },
   "outputs": [],
   "source": [
    "from tkinter import *\n",
    "def doNothing():\n",
    "    print('ok ok.')\n",
    "    \n",
    "root = Tk() #Blank Main window\n",
    "#Main menu\n",
    "menu = Menu(root) #menu is the object that will contain all menus on menubar in root.\n",
    "root.config(menu=menu) #Set menu to 'menu'. By default, it has already been put on the top\n",
    "#Sub menu. 'File', 'Edit' etc. are all submenus.\n",
    "\n",
    "subMenu = Menu(menu) #Inside 'menus'm, create a 'subMenu' object.\n",
    "\n",
    "menu.add_cascade(label = 'File', menu=subMenu) #The 'subMenu' just created will show up in the drop-down labeled as 'File'. \n",
    "\n",
    "#Now in the \n",
    "subMenu.add_command(label='New Project...',command=doNothing)\n",
    "subMenu.add_command(label='New...',command=doNothing)\n",
    "subMenu.add_separator() #Seperate one group to another group\n",
    "subMenu.add_command(label='Exit',command=doNothing)\n",
    "\n",
    "editMenu = Menu(menu) #Creat another item in main manu\n",
    "menu.add_cascade(label = 'Edit', menu=editMenu)\n",
    "editMenu.add_command(label='Redo', command=doNothing)\n",
    "\n",
    "# ***** Toolbar *****\n",
    "toolbar = Frame(root,bg='blue')\n",
    "insertButt = Button(toolbar,text='Insert Image',command=doNothing) #First thing in the toolbar\n",
    "insertButt.pack(side=LEFT,padx=2,pady=2) #Two pixel for pad\n",
    "printButt =  Button(toolbar,text='Print',command=doNothing)\n",
    "printButt.pack(side=LEFT,padx=2,pady=2)\n",
    "toolbar.pack(side=TOP,fill=X)\n",
    "root.mainloop() #Shows window"
   ]
  },
  {
   "cell_type": "markdown",
   "metadata": {},
   "source": [
    "## Add status bar"
   ]
  },
  {
   "cell_type": "code",
   "execution_count": null,
   "metadata": {
    "collapsed": false
   },
   "outputs": [],
   "source": [
    "from tkinter import *\n",
    "def doNothing():\n",
    "    print('ok ok.')\n",
    "    \n",
    "root = Tk() #Blank Main window\n",
    "#Main menu\n",
    "menu = Menu(root) #menu is the object that will contain all menus on menubar in root.\n",
    "root.config(menu=menu) #Set menu to 'menu'. By default, it has already been put on the top\n",
    "#Sub menu. 'File', 'Edit' etc. are all submenus.\n",
    "\n",
    "subMenu = Menu(menu) #Inside 'menus'm, create a 'subMenu' object.\n",
    "\n",
    "menu.add_cascade(label = 'File', menu=subMenu) #The 'subMenu' just created will show up in the drop-down labeled as 'File'. \n",
    "\n",
    "#Now in the \n",
    "subMenu.add_command(label='New Project...',command=doNothing)\n",
    "subMenu.add_command(label='New...',command=doNothing)\n",
    "subMenu.add_separator() #Seperate one group to another group\n",
    "subMenu.add_command(label='Exit',command=doNothing)\n",
    "\n",
    "editMenu = Menu(menu) #Creat another item in main manu\n",
    "menu.add_cascade(label = 'Edit', menu=editMenu)\n",
    "editMenu.add_command(label='Redo', command=doNothing)\n",
    "\n",
    "# ***** Toolbar *****\n",
    "toolbar = Frame(root,bg='blue')\n",
    "insertButt = Button(toolbar,text='Insert Image',command=doNothing) #First thing in the toolbar\n",
    "insertButt.pack(side=LEFT,padx=2,pady=2) #Two pixel for pad\n",
    "printButt =  Button(toolbar,text='Print',command=doNothing)\n",
    "printButt.pack(side=LEFT,padx=2,pady=2)\n",
    "toolbar.pack(side=TOP,fill=X)\n",
    "\n",
    "# ****** Status Bar ****\n",
    "\n",
    "status = Label(root, text='Preparing to do nothing...',bd=1,relief=SUNKEN,anchor=W) \n",
    "#bd=border(how you want your border appear)\n",
    "#relief=\n",
    "#anchor = NWES, W appears on the left\n",
    "status.pack(side=BOTTOM,fill=X) \n",
    "\n",
    "\n",
    "root.mainloop() #Shows window"
   ]
  },
  {
   "cell_type": "markdown",
   "metadata": {},
   "source": [
    "## Message box (pop up)"
   ]
  },
  {
   "cell_type": "code",
   "execution_count": null,
   "metadata": {
    "collapsed": false
   },
   "outputs": [],
   "source": [
    "from tkinter import *\n",
    "import tkinter.messagebox  #Need to import this for messagebox\n",
    "\n",
    "root = Tk()\n",
    "tkinter.messagebox.showinfo('Window Title','Monkeys can live up to 300 years.')\n",
    "\n",
    "root.mainloop()"
   ]
  },
  {
   "cell_type": "markdown",
   "metadata": {},
   "source": [
    "## Store variable in messagebox"
   ]
  },
  {
   "cell_type": "code",
   "execution_count": null,
   "metadata": {
    "collapsed": false
   },
   "outputs": [],
   "source": [
    "# A more complex version\n",
    "from tkinter import *\n",
    "import tkinter.messagebox  #Need to import this for messagebox\n",
    "\n",
    "root = Tk()\n",
    "tkinter.messagebox.showinfo('Window Title','Monkeys can live up to 300 years.')\n",
    "answer = tkinter.messagebox.askquestion('Question 1','Do you like apple?') \n",
    "if answer == 'yes':\n",
    "    print('I like it too :)')\n",
    "\n",
    "root.mainloop()"
   ]
  },
  {
   "cell_type": "markdown",
   "metadata": {},
   "source": [
    "## Shapes and Graphics"
   ]
  },
  {
   "cell_type": "code",
   "execution_count": null,
   "metadata": {
    "collapsed": false
   },
   "outputs": [],
   "source": [
    "from tkinter import *\n",
    "root = Tk()\n",
    "root.title(\"My Application\")\n",
    "canvas = Canvas(root, width = 200, height=100) #This is a blank canvas\n",
    "blackLine = canvas.create_line(0,0,200,50) #First x and y of starting point, second similar\n",
    "redLine = canvas.create_line(0,100,200,50,fill='red')\n",
    "greenBox = canvas.create_rectangle(25,25,130,60,fill='green')\n",
    "\n",
    "canvas.delete(redLine) #delete certain shape\n",
    "canvas.delete(ALL) #delete all\n",
    "\n",
    "canvas.pack()\n",
    "root.mainloop()"
   ]
  },
  {
   "cell_type": "markdown",
   "metadata": {},
   "source": [
    "## Add images !!!"
   ]
  },
  {
   "cell_type": "code",
   "execution_count": null,
   "metadata": {
    "collapsed": false
   },
   "outputs": [],
   "source": [
    "from tkinter import *\n",
    "\n",
    "root = Tk()\n",
    "photo = PhotoImage(file='image.gif') # A photo has to be embeded in a label, and label can be anywhere in root\n",
    "label = Label(root,image=photo)\n",
    "label.pack()\n",
    "root.mainloop()\n",
    "\n",
    "#Important: If runs error with 'pyimageN does not exist', then you just have to restart the kernal and rerun this cell."
   ]
  },
  {
   "cell_type": "code",
   "execution_count": 1,
   "metadata": {
    "collapsed": false
   },
   "outputs": [],
   "source": [
    "from tkinter import *\n",
    "\n",
    "class AllWidgets():\n",
    "    def __init__(self, root):\n",
    "    \n",
    "        self.frame = Frame(root)\n",
    "        \n",
    "        self.build_window()\n",
    "        \n",
    "        self.frame.pack()\n",
    "        \n",
    "        menubar = Menu(root)\n",
    "        root['menu'] = menubar\n",
    "        \n",
    "        menu_file = Menu(menubar)\n",
    "        menu_file.add_command(label=\"Quit\", command=self.quit)\n",
    "        \n",
    "        menubar.add_cascade(menu=menu_file, label='File')\n",
    "        \n",
    "        \n",
    "    def build_window(self):\n",
    "        Label(self.frame, text=\"Label\").pack(side=TOP)\n",
    "        Button(self.frame, text=\"Button\").pack(side=TOP)\n",
    "        \n",
    "        Entry(self.frame, text=\"Entry\").pack(side=TOP)\n",
    "        lb = Listbox(self.frame, height=3)\n",
    "        lb.pack(side=TOP)\n",
    "        for x in ('Listbox 1', 'Listbox 2', 'Listbox 3'):\n",
    "            lb.insert('end', x)\n",
    "        #RadioButton(self.frame, text=\"Radio Button\").pack(side=TOP)\n",
    "        LabelFrame(self.frame, text=\"Label Frame\").pack(side=TOP)\n",
    "        Scale(self.frame, from_=0, to=200, orient=HORIZONTAL).pack(side=TOP)\n",
    "        Scrollbar(self.frame, orient=HORIZONTAL).pack(side=TOP, fill=X)\n",
    "        Spinbox(self.frame, from_=0, to=200).pack(side=TOP)\n",
    "        p = PhotoImage(file=\"image.gif\")\n",
    "        l=Label(self.frame, image=p)\n",
    "        l.image = p\n",
    "        l.pack(side=TOP)\n",
    "        \n",
    "        t = Text(self.frame, height=5, width=20)\n",
    "        t.pack(side=TOP)\n",
    "        t.insert(END, \"An editable\\ntext widget\")\n",
    "        \n",
    "\n",
    "    def quit(self):\n",
    "        self.frame.quit()\n",
    "\n",
    "if __name__ == '__main__':\n",
    "    root = Tk()\n",
    "    \n",
    "    app = AllWidgets(root)\n",
    "    \n",
    "    root.mainloop()"
   ]
  },
  {
   "cell_type": "code",
   "execution_count": null,
   "metadata": {
    "collapsed": true
   },
   "outputs": [],
   "source": [
    ""
   ]
  }
 ],
 "metadata": {
  "anaconda-cloud": {},
  "kernelspec": {
   "display_name": "Python [conda root]",
   "language": "python",
   "name": "conda-root-py"
  },
  "language_info": {
   "codemirror_mode": {
    "name": "ipython",
    "version": 3.0
   },
   "file_extension": ".py",
   "mimetype": "text/x-python",
   "name": "python",
   "nbconvert_exporter": "python",
   "pygments_lexer": "ipython3",
   "version": "3.5.2"
  }
 },
 "nbformat": 4,
 "nbformat_minor": 0
}