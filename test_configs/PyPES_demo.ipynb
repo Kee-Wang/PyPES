{
 "cells": [
  {
   "cell_type": "code",
   "execution_count": null,
   "metadata": {
    "collapsed": false
   },
   "outputs": [],
   "source": [
    "#Welcome to PyPES demonstration. In this tutorial, I will show you some basic usage of PyPES.\n",
    "#Let's start with checking files. \n",
    "#Press Shift+Enter to execute each command.\n",
    "#Made by Kee"
   ]
  },
  {
   "cell_type": "code",
   "execution_count": null,
   "metadata": {
    "collapsed": true
   },
   "outputs": [],
   "source": [
    "from pypes.configs import conifgs #This can be set as default so that it automatically import configs all the time."
   ]
  },
  {
   "cell_type": "code",
   "execution_count": null,
   "metadata": {
    "collapsed": false
   },
   "outputs": [],
   "source": [
    "#%matplotlib qt #Currently have some technical problem"
   ]
  },
  {
   "cell_type": "code",
   "execution_count": 1,
   "metadata": {
    "collapsed": false
   },
   "outputs": [
    {
     "name": "stdout",
     "output_type": "stream",
     "text": [
      "1_dep_H2_H2O.dat   3_CO2_H2O_v2b.dat  PyPES_demo.ipynb\r\n",
      "2_CO2_H2O.dat      4_H2_H2O.dat       plot.temp\r\n"
     ]
    }
   ],
   "source": [
    "ls #To see what files are there."
   ]
  },
  {
   "cell_type": "code",
   "execution_count": null,
   "metadata": {
    "collapsed": false,
    "nbpresent": {
     "id": "aa8c9314-4b7b-46cb-9e96-ee3574bbe824"
    }
   },
   "outputs": [],
   "source": [
    "test = configs('1_dep_H2_H2O.dat') #This is to load data. This first example shows a deprecated input"
   ]
  },
  {
   "cell_type": "code",
   "execution_count": null,
   "metadata": {
    "collapsed": false,
    "nbpresent": {
     "id": "4e296129-6855-4ed4-9d90-ff3f45e75c01"
    }
   },
   "outputs": [],
   "source": [
    "dimer = configs('2_CO2_H2O.dat') #To show dissociation using this dimer energy"
   ]
  },
  {
   "cell_type": "code",
   "execution_count": null,
   "metadata": {
    "collapsed": false,
    "nbpresent": {
     "id": "fea8bdf3-1363-468f-9a0a-649f3cfc817b"
    }
   },
   "outputs": [],
   "source": [
    "dimer.info() #To show what self.info() does"
   ]
  },
  {
   "cell_type": "code",
   "execution_count": null,
   "metadata": {
    "collapsed": false,
    "nbpresent": {
     "id": "4fee27ab-8c76-4030-9ea5-81f04a8ff09e"
    }
   },
   "outputs": [],
   "source": [
    "dimer.help() #To show what self.help() does"
   ]
  },
  {
   "cell_type": "code",
   "execution_count": null,
   "metadata": {
    "collapsed": false,
    "nbpresent": {
     "id": "59d2414d-116a-4cfa-88bc-72784ebc219b"
    },
    "scrolled": true
   },
   "outputs": [],
   "source": [
    "dimer_list = b.list() #Return all configurations as a list\n",
    "type(dimer_list)"
   ]
  },
  {
   "cell_type": "code",
   "execution_count": null,
   "metadata": {
    "collapsed": false,
    "nbpresent": {
     "id": "8502b0b7-938a-4258-b172-27dc818d702d"
    }
   },
   "outputs": [],
   "source": [
    "dimer_list[0:100] #Show raw list"
   ]
  },
  {
   "cell_type": "code",
   "execution_count": null,
   "metadata": {
    "collapsed": false,
    "nbpresent": {
     "id": "137b3d53-4df9-4839-9a2b-28a982121812"
    }
   },
   "outputs": [],
   "source": [
    "dimer.prt(c[0:10]) #Show pretty priting"
   ]
  },
  {
   "cell_type": "code",
   "execution_count": null,
   "metadata": {
    "collapsed": true
   },
   "outputs": [],
   "source": [
    "dimer_sorted = dimer.sort() #Sort all configurations according to energy"
   ]
  },
  {
   "cell_type": "code",
   "execution_count": null,
   "metadata": {
    "collapsed": true
   },
   "outputs": [],
   "source": [
    "dimier.write('test.ouput',dimer_sorted) #Show pretty writing"
   ]
  },
  {
   "cell_type": "code",
   "execution_count": null,
   "metadata": {
    "collapsed": true
   },
   "outputs": [],
   "source": [
    "global_minimum = dimer_sorted[0] #Show global minimum"
   ]
  },
  {
   "cell_type": "code",
   "execution_count": null,
   "metadata": {
    "collapsed": true
   },
   "outputs": [],
   "source": [
    "dimer.molden(global_minumum) #Show 3D molecule model using Molden interface"
   ]
  },
  {
   "cell_type": "code",
   "execution_count": null,
   "metadata": {
    "collapsed": true
   },
   "outputs": [],
   "source": [
    "configs_dissociation = dimer.dissociation() #Show how to make the rigid configuration"
   ]
  },
  {
   "cell_type": "code",
   "execution_count": null,
   "metadata": {
    "collapsed": true
   },
   "outputs": [],
   "source": [
    "configs_resized = dimer.resize() #Show  resized configurations"
   ]
  },
  {
   "cell_type": "code",
   "execution_count": null,
   "metadata": {
    "collapsed": true
   },
   "outputs": [],
   "source": [
    "v2b = configs('3_CO2_H2O_v2b.dat') #Read v2b file and demonstrate energy distribution plot"
   ]
  },
  {
   "cell_type": "code",
   "execution_count": null,
   "metadata": {
    "collapsed": false
   },
   "outputs": [],
   "source": [
    "v2b.plot() #Plot the energy distribution"
   ]
  },
  {
   "cell_type": "code",
   "execution_count": null,
   "metadata": {
    "collapsed": false
   },
   "outputs": [],
   "source": [
    "v2b.plot2() #Plot the clipped energy distribuiton"
   ]
  },
  {
   "cell_type": "code",
   "execution_count": null,
   "metadata": {
    "collapsed": true
   },
   "outputs": [],
   "source": []
  }
 ],
 "metadata": {
  "anaconda-cloud": {},
  "kernelspec": {
   "display_name": "Python [conda root]",
   "language": "python",
   "name": "conda-root-py"
  },
  "language_info": {
   "codemirror_mode": {
    "name": "ipython",
    "version": 2
   },
   "file_extension": ".py",
   "mimetype": "text/x-python",
   "name": "python",
   "nbconvert_exporter": "python",
   "pygments_lexer": "ipython2",
   "version": "2.7.12"
  },
  "nbpresent": {
   "slides": {
    "018de685-912a-4010-a42b-bcaae518741a": {
     "id": "018de685-912a-4010-a42b-bcaae518741a",
     "prev": null,
     "regions": {
      "eb99ec37-9ed6-4678-9594-32cd5ca31f02": {
       "attrs": {
        "height": 0.8,
        "width": 0.8,
        "x": 0.1,
        "y": 0.1
       },
       "content": {
        "cell": "aa8c9314-4b7b-46cb-9e96-ee3574bbe824",
        "part": "whole"
       },
       "id": "eb99ec37-9ed6-4678-9594-32cd5ca31f02"
      }
     },
     "theme": null
    },
    "4cef29f3-54cb-425e-894d-aa50c3045de1": {
     "id": "4cef29f3-54cb-425e-894d-aa50c3045de1",
     "prev": "018de685-912a-4010-a42b-bcaae518741a",
     "regions": {
      "85932de0-fa0f-497b-84dc-deb4976f2893": {
       "attrs": {
        "height": 0.8,
        "width": 0.8,
        "x": 0.1,
        "y": 0.1
       },
       "content": {
        "cell": "4e296129-6855-4ed4-9d90-ff3f45e75c01",
        "part": "whole"
       },
       "id": "85932de0-fa0f-497b-84dc-deb4976f2893"
      }
     }
    },
    "72982e34-e64f-415c-a69d-4fe0ccdc845a": {
     "id": "72982e34-e64f-415c-a69d-4fe0ccdc845a",
     "prev": "fd474461-9bcb-4521-a593-0534a702ab32",
     "regions": {
      "46ca7853-cb09-4803-93e5-e638a25f87b8": {
       "attrs": {
        "height": 0.8,
        "width": 0.8,
        "x": 0.1,
        "y": 0.1
       },
       "content": {
        "cell": "8502b0b7-938a-4258-b172-27dc818d702d",
        "part": "whole"
       },
       "id": "46ca7853-cb09-4803-93e5-e638a25f87b8"
      }
     }
    },
    "abaec4b6-e20d-473b-bd6d-d864ca7392bb": {
     "id": "abaec4b6-e20d-473b-bd6d-d864ca7392bb",
     "prev": "4cef29f3-54cb-425e-894d-aa50c3045de1",
     "regions": {
      "16f8db8f-5748-4e4f-866f-2afb68710a66": {
       "attrs": {
        "height": 0.8,
        "width": 0.8,
        "x": 0.1,
        "y": 0.1
       },
       "content": {
        "cell": "fea8bdf3-1363-468f-9a0a-649f3cfc817b",
        "part": "whole"
       },
       "id": "16f8db8f-5748-4e4f-866f-2afb68710a66"
      }
     }
    },
    "e0c83bdb-4d71-41a0-a60d-b0793ae32510": {
     "id": "e0c83bdb-4d71-41a0-a60d-b0793ae32510",
     "prev": "72982e34-e64f-415c-a69d-4fe0ccdc845a",
     "regions": {
      "33cbdcb2-e14a-410f-a572-67df6475287c": {
       "attrs": {
        "height": 0.8,
        "width": 0.8,
        "x": 0.1,
        "y": 0.1
       },
       "content": {
        "cell": "137b3d53-4df9-4839-9a2b-28a982121812",
        "part": "whole"
       },
       "id": "33cbdcb2-e14a-410f-a572-67df6475287c"
      }
     }
    },
    "fd474461-9bcb-4521-a593-0534a702ab32": {
     "id": "fd474461-9bcb-4521-a593-0534a702ab32",
     "prev": "abaec4b6-e20d-473b-bd6d-d864ca7392bb",
     "regions": {
      "14d46252-ef12-46d8-9ecd-a1fb31e81d49": {
       "attrs": {
        "height": 0.8,
        "width": 0.8,
        "x": 0.1,
        "y": 0.1
       },
       "content": {
        "cell": "59d2414d-116a-4cfa-88bc-72784ebc219b",
        "part": "whole"
       },
       "id": "14d46252-ef12-46d8-9ecd-a1fb31e81d49"
      }
     }
    }
   },
   "themes": {}
  }
 },
 "nbformat": 4,
 "nbformat_minor": 1
}
