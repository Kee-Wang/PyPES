{
 "cells": [
  {
   "cell_type": "markdown",
   "metadata": {
    "collapsed": false
   },
   "source": [
    "---\n",
    "\n",
    "# Welcome to PyPES demonstration\n",
    "\n",
    "In this demo, I will walk you through some basic features of PyPES.\n",
    "\n",
    "Press Shift+Enter to execute each command.\n",
    "\n",
    "Use magic command `%matplotlib qt` to open interactive plot\n",
    "\n",
    "The whole package is available on Github maintained by [Kee-Wang](https://github.com/Kee-Wang/PyPES).\n",
    "\n",
    "---"
   ]
  },
  {
   "cell_type": "markdown",
   "metadata": {},
   "source": [
    "## How to import a module\n",
    "\n",
    "* You can avoid importing modules everytime by few tricks described in the README file in [Github](https://github.com/Kee-Wang/PyPES/blob/master/README.md)."
   ]
  },
  {
   "cell_type": "code",
   "execution_count": 2,
   "metadata": {
    "collapsed": false
   },
   "outputs": [],
   "source": [
    "from pypes.configs import configs #This can be set as default so that it automatically import configs all the time."
   ]
  },
  {
   "cell_type": "markdown",
   "metadata": {},
   "source": [
    "# What featurs does PyPES have?"
   ]
  },
  {
   "cell_type": "code",
   "execution_count": 3,
   "metadata": {
    "collapsed": false
   },
   "outputs": [
    {
     "data": {
      "text/plain": [
       "['__class__',\n",
       " '__delattr__',\n",
       " '__dict__',\n",
       " '__dir__',\n",
       " '__doc__',\n",
       " '__eq__',\n",
       " '__format__',\n",
       " '__ge__',\n",
       " '__getattribute__',\n",
       " '__gt__',\n",
       " '__hash__',\n",
       " '__init__',\n",
       " '__le__',\n",
       " '__lt__',\n",
       " '__module__',\n",
       " '__ne__',\n",
       " '__new__',\n",
       " '__reduce__',\n",
       " '__reduce_ex__',\n",
       " '__repr__',\n",
       " '__setattr__',\n",
       " '__sizeof__',\n",
       " '__str__',\n",
       " '__subclasshook__',\n",
       " '__weakref__',\n",
       " 'alias',\n",
       " 'chosen_atom',\n",
       " 'cl',\n",
       " 'co2h2o',\n",
       " 'compare',\n",
       " 'compare_cm',\n",
       " 'compared',\n",
       " 'configs_check',\n",
       " 'dissociation',\n",
       " 'distance',\n",
       " 'error_message',\n",
       " 'extract',\n",
       " 'extract_dimer',\n",
       " 'extract_ee',\n",
       " 'extract_monomer',\n",
       " 'feature',\n",
       " 'help',\n",
       " 'info',\n",
       " 'int2list',\n",
       " 'list',\n",
       " 'logo',\n",
       " 'molden',\n",
       " 'molpro',\n",
       " 'monomers',\n",
       " 'nodelist',\n",
       " 'order',\n",
       " 'pbs',\n",
       " 'plot',\n",
       " 'plot2',\n",
       " 'plotv2b',\n",
       " 'prt',\n",
       " 'resize',\n",
       " 'slice',\n",
       " 'sort',\n",
       " 'sort_distance',\n",
       " 'split2node',\n",
       " 'submit',\n",
       " 'switch',\n",
       " 'threshold_distance',\n",
       " 'threshold_energy',\n",
       " 'todo',\n",
       " 'translate',\n",
       " 'v2b',\n",
       " 'vector',\n",
       " 'write']"
      ]
     },
     "execution_count": 3,
     "metadata": {},
     "output_type": "execute_result"
    }
   ],
   "source": [
    "dir(configs)"
   ]
  },
  {
   "cell_type": "markdown",
   "metadata": {},
   "source": [
    "## Get started with first file ... with consistency check feature!"
   ]
  },
  {
   "cell_type": "code",
   "execution_count": null,
   "metadata": {
    "collapsed": false
   },
   "outputs": [],
   "source": [
    "ls #To see what files are there."
   ]
  },
  {
   "cell_type": "code",
   "execution_count": 4,
   "metadata": {
    "collapsed": false,
    "nbpresent": {
     "id": "aa8c9314-4b7b-46cb-9e96-ee3574bbe824"
    }
   },
   "outputs": [
    {
     "name": "stdout",
     "output_type": "stream",
     "text": [
      "\n",
      "\n",
      "        ########  ##    ## ########  ########  ######\n",
      "        ##     ##  ##  ##  ##     ## ##       ##    ##\n",
      "        ##     ##   ####   ##     ## ##       ##\n",
      "        ########     ##    ########  ######    ######\n",
      "        ##           ##    ##        ##             ##\n",
      "        ##           ##    ##        ##       ##    ##\n",
      "        ##           ##    ##        ########  ######\n",
      "\n",
      "                                            Version 0.0.27\n",
      "\n",
      "                                --A Bowman Group Product\n",
      "                                    \n",
      "Reading file...\n",
      "\n",
      "Consistency error: atom in line: 31 is: O     -0.98037040     -0.12097681      0.08083679\n",
      "Consistency error: atom in line: 35 is: H     -1.73559272     -0.63072962      0.09797113\n",
      "Consistency error: number of atoms in line: 36 is : 7\n",
      "*Status: sorting...\n",
      "\n",
      "\n",
      "----Sorting by energy...\n",
      "\n",
      "\n",
      "*Status: sorting finished.\n",
      "\n",
      "Number of blank lines in file:    1 \n",
      "Configuration check finished!\n",
      "Number of configurations:    44623 \n",
      "Reading finished. You can use self.info() or self.help() to start\n"
     ]
    }
   ],
   "source": [
    "test = configs('1_dep_H2_H2O.dat') #This is to load data. This first example shows a flawed input"
   ]
  },
  {
   "cell_type": "markdown",
   "metadata": {},
   "source": [
    "## Check info and syntax help in PyPES"
   ]
  },
  {
   "cell_type": "code",
   "execution_count": null,
   "metadata": {
    "collapsed": false,
    "nbpresent": {
     "id": "4e296129-6855-4ed4-9d90-ff3f45e75c01"
    }
   },
   "outputs": [],
   "source": [
    "#%%timeit -n 1 #This is for timing test\n",
    "dimer = configs('2_CO2_H2O.dat') #To show dissociation using this dimer energy"
   ]
  },
  {
   "cell_type": "code",
   "execution_count": null,
   "metadata": {
    "collapsed": false,
    "nbpresent": {
     "id": "fea8bdf3-1363-468f-9a0a-649f3cfc817b"
    }
   },
   "outputs": [],
   "source": [
    "dimer.info() #To show what self.info() does"
   ]
  },
  {
   "cell_type": "code",
   "execution_count": null,
   "metadata": {
    "collapsed": false,
    "nbpresent": {
     "id": "4fee27ab-8c76-4030-9ea5-81f04a8ff09e"
    }
   },
   "outputs": [],
   "source": [
    "dimer.help() #To show what self.help() does"
   ]
  },
  {
   "cell_type": "markdown",
   "metadata": {},
   "source": [
    "## Talk to Python using list"
   ]
  },
  {
   "cell_type": "code",
   "execution_count": null,
   "metadata": {
    "collapsed": false,
    "nbpresent": {
     "id": "59d2414d-116a-4cfa-88bc-72784ebc219b"
    },
    "scrolled": true
   },
   "outputs": [],
   "source": [
    "dimer_list = dimer.list() #Return all configurations as a list\n",
    "type(dimer_list)"
   ]
  },
  {
   "cell_type": "code",
   "execution_count": null,
   "metadata": {
    "collapsed": false,
    "nbpresent": {
     "id": "8502b0b7-938a-4258-b172-27dc818d702d"
    }
   },
   "outputs": [],
   "source": [
    "dimer_list[0:100] #Show raw list"
   ]
  },
  {
   "cell_type": "markdown",
   "metadata": {},
   "source": [
    "## Print on screen the structured list with pretty format"
   ]
  },
  {
   "cell_type": "code",
   "execution_count": null,
   "metadata": {
    "collapsed": false,
    "nbpresent": {
     "id": "137b3d53-4df9-4839-9a2b-28a982121812"
    }
   },
   "outputs": [],
   "source": [
    "dimer.prt(dimer_list[0:10]) #Show first 10 configurations"
   ]
  },
  {
   "cell_type": "markdown",
   "metadata": {},
   "source": [
    "## Write configuration into a file with pretty format"
   ]
  },
  {
   "cell_type": "code",
   "execution_count": null,
   "metadata": {
    "collapsed": false
   },
   "outputs": [],
   "source": [
    "ls"
   ]
  },
  {
   "cell_type": "code",
   "execution_count": null,
   "metadata": {
    "collapsed": false
   },
   "outputs": [],
   "source": [
    "dimer.write('output',dimer_list[0:3]) #Write first three configurations"
   ]
  },
  {
   "cell_type": "code",
   "execution_count": null,
   "metadata": {
    "collapsed": false
   },
   "outputs": [],
   "source": [
    "ls"
   ]
  },
  {
   "cell_type": "code",
   "execution_count": null,
   "metadata": {
    "collapsed": false
   },
   "outputs": [],
   "source": [
    "!cat 'output' #Check the output"
   ]
  },
  {
   "cell_type": "markdown",
   "metadata": {},
   "source": [
    "## Sort list accroding to energy"
   ]
  },
  {
   "cell_type": "code",
   "execution_count": null,
   "metadata": {
    "collapsed": false
   },
   "outputs": [],
   "source": [
    "dimer_sorted = dimer.sort() #Sort all configurations according to energy"
   ]
  },
  {
   "cell_type": "code",
   "execution_count": null,
   "metadata": {
    "collapsed": true
   },
   "outputs": [],
   "source": [
    "global_minimum = dimer_sorted[0] #Show global minimum"
   ]
  },
  {
   "cell_type": "markdown",
   "metadata": {},
   "source": [
    "## View 3D model using Molden"
   ]
  },
  {
   "cell_type": "code",
   "execution_count": null,
   "metadata": {
    "collapsed": false
   },
   "outputs": [],
   "source": [
    "dimer.molden(global_minimum) #Show config of global minimum"
   ]
  },
  {
   "cell_type": "markdown",
   "metadata": {},
   "source": [
    "## Rigid dissociation along a given direction defined by two reference atoms"
   ]
  },
  {
   "cell_type": "code",
   "execution_count": null,
   "metadata": {
    "collapsed": true
   },
   "outputs": [],
   "source": [
    "dimer.dissociation?"
   ]
  },
  {
   "cell_type": "code",
   "execution_count": null,
   "metadata": {
    "collapsed": false
   },
   "outputs": [],
   "source": [
    "#dimer = configs('2_CO2_H2O.dat') #Use this if enter value wrong in some stage\n",
    "configs_dissociation = dimer.dissociation() #Show how to make the rigid configuration"
   ]
  },
  {
   "cell_type": "code",
   "execution_count": null,
   "metadata": {
    "collapsed": false
   },
   "outputs": [],
   "source": [
    "dimer.write('dissociation.xyz',configs_dissociation)"
   ]
  },
  {
   "cell_type": "markdown",
   "metadata": {},
   "source": [
    "## Redistribute the bond length"
   ]
  },
  {
   "cell_type": "code",
   "execution_count": null,
   "metadata": {
    "collapsed": false
   },
   "outputs": [],
   "source": [
    "#dimer = configs('2_CO2_H2O.dat')\n",
    "configs_resized = dimer.resize() #Show  resized configurations"
   ]
  },
  {
   "cell_type": "code",
   "execution_count": null,
   "metadata": {
    "collapsed": false,
    "scrolled": true
   },
   "outputs": [],
   "source": [
    "dimer.molden(configs_resized)"
   ]
  },
  {
   "cell_type": "markdown",
   "metadata": {},
   "source": [
    "## View energy distribution plot and save as EPS file"
   ]
  },
  {
   "cell_type": "code",
   "execution_count": null,
   "metadata": {
    "collapsed": false
   },
   "outputs": [],
   "source": [
    "v2b = configs('3_CO2_H2O_v2b.dat') #Read v2b file and demonstrate energy distribution plot"
   ]
  },
  {
   "cell_type": "code",
   "execution_count": null,
   "metadata": {
    "collapsed": false
   },
   "outputs": [],
   "source": [
    "v2b.plot() #Plot the energy distribution"
   ]
  },
  {
   "cell_type": "code",
   "execution_count": null,
   "metadata": {
    "collapsed": false
   },
   "outputs": [],
   "source": [
    "v2b.plot2() #Plot the clipped energy distribuiton"
   ]
  }
 ],
 "metadata": {
  "anaconda-cloud": {},
  "kernelspec": {
   "display_name": "Python [conda root]",
   "language": "python",
   "name": "conda-root-py"
  },
  "language_info": {
   "codemirror_mode": {
    "name": "ipython",
    "version": 3
   },
   "file_extension": ".py",
   "mimetype": "text/x-python",
   "name": "python",
   "nbconvert_exporter": "python",
   "pygments_lexer": "ipython3",
   "version": "3.5.2"
  },
  "nbpresent": {
   "slides": {
    "018de685-912a-4010-a42b-bcaae518741a": {
     "id": "018de685-912a-4010-a42b-bcaae518741a",
     "prev": null,
     "regions": {
      "eb99ec37-9ed6-4678-9594-32cd5ca31f02": {
       "attrs": {
        "height": 0.8,
        "width": 0.8,
        "x": 0.1,
        "y": 0.1
       },
       "content": {
        "cell": "aa8c9314-4b7b-46cb-9e96-ee3574bbe824",
        "part": "whole"
       },
       "id": "eb99ec37-9ed6-4678-9594-32cd5ca31f02"
      }
     },
     "theme": null
    },
    "4cef29f3-54cb-425e-894d-aa50c3045de1": {
     "id": "4cef29f3-54cb-425e-894d-aa50c3045de1",
     "prev": "018de685-912a-4010-a42b-bcaae518741a",
     "regions": {
      "85932de0-fa0f-497b-84dc-deb4976f2893": {
       "attrs": {
        "height": 0.8,
        "width": 0.8,
        "x": 0.1,
        "y": 0.1
       },
       "content": {
        "cell": "4e296129-6855-4ed4-9d90-ff3f45e75c01",
        "part": "whole"
       },
       "id": "85932de0-fa0f-497b-84dc-deb4976f2893"
      }
     }
    },
    "72982e34-e64f-415c-a69d-4fe0ccdc845a": {
     "id": "72982e34-e64f-415c-a69d-4fe0ccdc845a",
     "prev": "fd474461-9bcb-4521-a593-0534a702ab32",
     "regions": {
      "46ca7853-cb09-4803-93e5-e638a25f87b8": {
       "attrs": {
        "height": 0.8,
        "width": 0.8,
        "x": 0.1,
        "y": 0.1
       },
       "content": {
        "cell": "8502b0b7-938a-4258-b172-27dc818d702d",
        "part": "whole"
       },
       "id": "46ca7853-cb09-4803-93e5-e638a25f87b8"
      }
     }
    },
    "abaec4b6-e20d-473b-bd6d-d864ca7392bb": {
     "id": "abaec4b6-e20d-473b-bd6d-d864ca7392bb",
     "prev": "4cef29f3-54cb-425e-894d-aa50c3045de1",
     "regions": {
      "16f8db8f-5748-4e4f-866f-2afb68710a66": {
       "attrs": {
        "height": 0.8,
        "width": 0.8,
        "x": 0.1,
        "y": 0.1
       },
       "content": {
        "cell": "fea8bdf3-1363-468f-9a0a-649f3cfc817b",
        "part": "whole"
       },
       "id": "16f8db8f-5748-4e4f-866f-2afb68710a66"
      }
     }
    },
    "e0c83bdb-4d71-41a0-a60d-b0793ae32510": {
     "id": "e0c83bdb-4d71-41a0-a60d-b0793ae32510",
     "prev": "72982e34-e64f-415c-a69d-4fe0ccdc845a",
     "regions": {
      "33cbdcb2-e14a-410f-a572-67df6475287c": {
       "attrs": {
        "height": 0.8,
        "width": 0.8,
        "x": 0.1,
        "y": 0.1
       },
       "content": {
        "cell": "137b3d53-4df9-4839-9a2b-28a982121812",
        "part": "whole"
       },
       "id": "33cbdcb2-e14a-410f-a572-67df6475287c"
      }
     }
    },
    "fd474461-9bcb-4521-a593-0534a702ab32": {
     "id": "fd474461-9bcb-4521-a593-0534a702ab32",
     "prev": "abaec4b6-e20d-473b-bd6d-d864ca7392bb",
     "regions": {
      "14d46252-ef12-46d8-9ecd-a1fb31e81d49": {
       "attrs": {
        "height": 0.8,
        "width": 0.8,
        "x": 0.1,
        "y": 0.1
       },
       "content": {
        "cell": "59d2414d-116a-4cfa-88bc-72784ebc219b",
        "part": "whole"
       },
       "id": "14d46252-ef12-46d8-9ecd-a1fb31e81d49"
      }
     }
    }
   },
   "themes": {}
  }
 },
 "nbformat": 4,
 "nbformat_minor": 1
}
